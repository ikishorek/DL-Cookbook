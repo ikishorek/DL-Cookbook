{
 "cells": [
  {
   "cell_type": "markdown",
   "metadata": {},
   "source": [
    "## CH3_단어 임베딩을 사용하여 텍스트 유사성 계산하기"
   ]
  },
  {
   "cell_type": "code",
   "execution_count": null,
   "metadata": {},
   "outputs": [],
   "source": [
    "!pip install nltk"
   ]
  },
  {
   "cell_type": "code",
   "execution_count": 7,
   "metadata": {
    "scrolled": true
   },
   "outputs": [
    {
     "name": "stderr",
     "output_type": "stream",
     "text": [
      "[nltk_data] Downloading package punkt to /home/research/nltk_data...\n",
      "[nltk_data]   Unzipping tokenizers/punkt.zip.\n"
     ]
    },
    {
     "data": {
      "text/plain": [
       "True"
      ]
     },
     "execution_count": 7,
     "metadata": {},
     "output_type": "execute_result"
    }
   ],
   "source": [
    "import nltk\n",
    "\n",
    "nltk.download('punkt')"
   ]
  },
  {
   "cell_type": "code",
   "execution_count": 11,
   "metadata": {},
   "outputs": [
    {
     "name": "stdout",
     "output_type": "stream",
     "text": [
      "Traceback (most recent call last):\n",
      "  File \"/usr/bin/pip\", line 9, in <module>\n",
      "    from pip import main\n",
      "ImportError: cannot import name main\n",
      "\u001b[H\u001b[2J"
     ]
    }
   ],
   "source": [
    "!pip install gensim\n",
    "!wget https://wit3.fbk.eu/get.php?path=XML_releases/xml/ted_en-20160408.zip&filename=ted_en-20160408.zip"
   ]
  },
  {
   "cell_type": "code",
   "execution_count": 83,
   "metadata": {},
   "outputs": [],
   "source": [
    "import re\n",
    "import nltk\n",
    "import matplotlib.pyplot as plt\n",
    "import numpy as np\n",
    "\n",
    "from nltk.tokenize import word_tokenize, sent_tokenize\n",
    "from lxml import etree\n",
    "from sklearn.manifold import TSNE\n",
    "from gensim.models import Word2Vec\n",
    "from gensim.models import FastText\n",
    "\n",
    "#xml 파일을 읽어옵니다. / <content> ~ </content> 사이의 데이터만 읽어옵니다.\n",
    "targetXML = open(r'./ted_en-20160408.xml', 'r', encoding='UTF8')\n",
    "target_text = etree.parse(targetXML)\n",
    "parse_text = '\\n'.join(target_text.xpath('//content/text()'))\n",
    "\n",
    "#re : 정규표현식 sub 모듈로 (Audio), (Applause) 등을 지웁니다.\n",
    "content_text = re.sub(r'\\([^)]*\\)','', parse_text)\n"
   ]
  },
  {
   "cell_type": "code",
   "execution_count": 10,
   "metadata": {},
   "outputs": [
    {
     "name": "stdout",
     "output_type": "stream",
     "text": [
      "[['here', 'are', 'two', 'reasons', 'companies', 'fail', 'they', 'only', 'do', 'more', 'of', 'the', 'same', 'or', 'they', 'only', 'do', 'what', 's', 'new'], ['to', 'me', 'the', 'real', 'real', 'solution', 'to', 'quality', 'growth', 'is', 'figuring', 'out', 'the', 'balance', 'between', 'two', 'activities', 'exploration', 'and', 'exploitation'], ['both', 'are', 'necessary', 'but', 'it', 'can', 'be', 'too', 'much', 'of', 'a', 'good', 'thing'], ['consider', 'facit'], ['i', 'm', 'actually', 'old', 'enough', 'to', 'remember', 'them'], ['facit', 'was', 'a', 'fantastic', 'company'], ['they', 'were', 'born', 'deep', 'in', 'the', 'swedish', 'forest', 'and', 'they', 'made', 'the', 'best', 'mechanical', 'calculators', 'in', 'the', 'world'], ['everybody', 'used', 'them'], ['and', 'what', 'did', 'facit', 'do', 'when', 'the', 'electronic', 'calculator', 'came', 'along'], ['they', 'continued', 'doing', 'exactly', 'the', 'same']]\n"
     ]
    }
   ],
   "source": [
    "#nltk를 이용하여 문장 토큰화를 수행합니다.\n",
    "sent_text=sent_tokenize(content_text)\n",
    "\n",
    "#구두점을 제거하고, 대문자를 소문자로\n",
    "normalized_text = []\n",
    "for string in sent_text:\n",
    "     tokens = re.sub(r\"[^a-z0-9]+\", \" \", string.lower())\n",
    "     normalized_text.append(tokens)\n",
    "\n",
    "#nltk를 이용하여 단어 토큰화를 수행합니다.\n",
    "result=[]\n",
    "result=[word_tokenize(sentence) for sentence in normalized_text]\n",
    "\n",
    "print(result[:10])"
   ]
  },
  {
   "cell_type": "code",
   "execution_count": 75,
   "metadata": {},
   "outputs": [],
   "source": [
    "from gensim.models import Word2Vec\n",
    "\n",
    "#word2vec 모델로 100차원 임베딩 사이즈 / 윈도우 크기 5 / sg : 0 - CBOW, 1 - Skip-gram\n",
    "w2v_model = Word2Vec(sentences=result, size=100, window=5, min_count=1, workers=4, sg=0)\n",
    "ft_model = FastText(sentences=result, size=100, window=5, min_count=1, workers=4, sg=1)"
   ]
  },
  {
   "cell_type": "code",
   "execution_count": 87,
   "metadata": {},
   "outputs": [
    {
     "name": "stdout",
     "output_type": "stream",
     "text": [
      "[('woman', 0.8653082847595215), ('guy', 0.815261721611023), ('lady', 0.7825111150741577), ('boy', 0.7710304260253906), ('girl', 0.7672821283340454), ('gentleman', 0.7303575277328491), ('soldier', 0.7184085845947266), ('kid', 0.697036862373352), ('poet', 0.65450519323349), ('writer', 0.6484693288803101)]\n"
     ]
    }
   ],
   "source": [
    "sim_wv=w2v_model.wv.most_similar(\"man\")\n",
    "print(sim_wv)"
   ]
  },
  {
   "cell_type": "code",
   "execution_count": 88,
   "metadata": {},
   "outputs": [
    {
     "name": "stdout",
     "output_type": "stream",
     "text": [
      "[('madwoman', 0.8591204881668091), ('woman', 0.840608537197113), ('catwoman', 0.8308407068252563), ('charwoman', 0.8281388282775879), ('batsman', 0.822282075881958), ('maman', 0.8216226100921631), ('batman', 0.8210252523422241), ('oxman', 0.8123258352279663), ('guzman', 0.8101592659950256), ('usman', 0.8099648952484131)]\n"
     ]
    }
   ],
   "source": [
    "sim_ft=ft_model.wv.most_similar(\"man\")\n",
    "print(sim_ft)"
   ]
  },
  {
   "cell_type": "code",
   "execution_count": 89,
   "metadata": {},
   "outputs": [
    {
     "data": {
      "text/plain": [
       "('luther', 'dancing')"
      ]
     },
     "execution_count": 89,
     "metadata": {},
     "output_type": "execute_result"
    }
   ],
   "source": [
    "def ABC(a, b, c, topn=1):\n",
    "    a, b, c = map(lambda x:x if type(x) == list else [x], (a, b, c))\n",
    "    res = w2v_model.wv.most_similar(positive=b + c, negative=a, topn=topn)\n",
    "    res2 = ft_model.wv.most_similar(positive=b + c, negative=a, topn=topn)\n",
    "    \n",
    "    return res[0][0], res2[0][0]\n",
    "\n",
    "ABC('man', 'woman', 'king')"
   ]
  },
  {
   "cell_type": "code",
   "execution_count": 90,
   "metadata": {},
   "outputs": [
    {
     "data": {
      "text/plain": [
       "18"
      ]
     },
     "execution_count": 90,
     "metadata": {},
     "output_type": "execute_result"
    }
   ],
   "source": [
    "beverages = ['espresso', 'beer', 'vodka', 'wine', 'cola', 'tea']\n",
    "countries = ['Italy', 'Germany', 'Russia', 'France', 'USA', 'India']\n",
    "sports = ['soccer', 'handball', 'hockey', 'cycling', 'basketball', 'cricket']\n",
    "\n",
    "items = beverages + countries + sports\n",
    "len(items)"
   ]
  },
  {
   "cell_type": "code",
   "execution_count": 91,
   "metadata": {},
   "outputs": [
    {
     "name": "stderr",
     "output_type": "stream",
     "text": [
      "/home/research/.local/lib/python3.5/site-packages/ipykernel_launcher.py:3: DeprecationWarning: Call to deprecated `__contains__` (Method will be removed in 4.0.0, use self.wv.__contains__() instead).\n",
      "  This is separate from the ipykernel package so we can avoid doing imports until\n",
      "/home/research/.local/lib/python3.5/site-packages/ipykernel_launcher.py:3: DeprecationWarning: Call to deprecated `__getitem__` (Method will be removed in 4.0.0, use self.wv.__getitem__() instead).\n",
      "  This is separate from the ipykernel package so we can avoid doing imports until\n"
     ]
    },
    {
     "data": {
      "text/plain": [
       "11"
      ]
     },
     "execution_count": 91,
     "metadata": {},
     "output_type": "execute_result"
    }
   ],
   "source": [
    "item_vectors = [(item, w2v_model[item]) \n",
    "                    for item in items\n",
    "                    if item in w2v_model]\n",
    "len(item_vectors)"
   ]
  },
  {
   "cell_type": "code",
   "execution_count": 92,
   "metadata": {},
   "outputs": [
    {
     "name": "stdout",
     "output_type": "stream",
     "text": [
      "[t-SNE] Computing 10 nearest neighbors...\n",
      "[t-SNE] Indexed 11 samples in 0.000s...\n",
      "[t-SNE] Computed neighbors for 11 samples in 0.002s...\n",
      "[t-SNE] Computed conditional probabilities for sample 11 / 11\n",
      "[t-SNE] Mean sigma: 8.000000\n",
      "[t-SNE] Computed conditional probabilities in 0.002s\n",
      "[t-SNE] Iteration 50: error = 79.3197327, gradient norm = 0.6725058 (50 iterations in 0.010s)\n",
      "[t-SNE] Iteration 100: error = 65.0386200, gradient norm = 0.5248668 (50 iterations in 0.008s)\n",
      "[t-SNE] Iteration 150: error = 64.4948578, gradient norm = 0.7782242 (50 iterations in 0.008s)\n",
      "[t-SNE] Iteration 200: error = 46.0015755, gradient norm = 0.0620611 (50 iterations in 0.008s)\n",
      "[t-SNE] Iteration 250: error = 64.7724686, gradient norm = 0.5616547 (50 iterations in 0.008s)\n",
      "[t-SNE] KL divergence after 250 iterations with early exaggeration: 64.772469\n",
      "[t-SNE] Iteration 300: error = 0.4602440, gradient norm = 0.0010574 (50 iterations in 0.007s)\n",
      "[t-SNE] Iteration 350: error = 0.3192955, gradient norm = 0.0002369 (50 iterations in 0.008s)\n",
      "[t-SNE] Iteration 400: error = 0.2873042, gradient norm = 0.0001548 (50 iterations in 0.008s)\n",
      "[t-SNE] Iteration 450: error = 0.2776283, gradient norm = 0.0000718 (50 iterations in 0.008s)\n",
      "[t-SNE] Iteration 500: error = 0.2724005, gradient norm = 0.0000556 (50 iterations in 0.008s)\n",
      "[t-SNE] Iteration 550: error = 0.2694846, gradient norm = 0.0000344 (50 iterations in 0.008s)\n",
      "[t-SNE] Iteration 600: error = 0.2685285, gradient norm = 0.0000161 (50 iterations in 0.007s)\n",
      "[t-SNE] Iteration 650: error = 0.2683235, gradient norm = 0.0000051 (50 iterations in 0.007s)\n",
      "[t-SNE] Iteration 700: error = 0.2683018, gradient norm = 0.0000011 (50 iterations in 0.007s)\n",
      "[t-SNE] Iteration 750: error = 0.2683004, gradient norm = 0.0000004 (50 iterations in 0.008s)\n",
      "[t-SNE] Iteration 800: error = 0.2683001, gradient norm = 0.0000004 (50 iterations in 0.008s)\n",
      "[t-SNE] Iteration 850: error = 0.2682999, gradient norm = 0.0000004 (50 iterations in 0.007s)\n",
      "[t-SNE] Iteration 900: error = 0.2682996, gradient norm = 0.0000003 (50 iterations in 0.007s)\n",
      "[t-SNE] Iteration 950: error = 0.2682993, gradient norm = 0.0000003 (50 iterations in 0.007s)\n",
      "[t-SNE] Iteration 1000: error = 0.2682988, gradient norm = 0.0000003 (50 iterations in 0.007s)\n",
      "[t-SNE] KL divergence after 1000 iterations: 0.268299\n"
     ]
    }
   ],
   "source": [
    "vectors = np.asarray([x[1] for x in item_vectors])\n",
    "lengths = np.linalg.norm(vectors, axis=1)\n",
    "norm_vectors = (vectors.T / lengths).T\n",
    "\n",
    "tsne = TSNE(n_components=2, perplexity=10, verbose=2).fit_transform(norm_vectors)"
   ]
  },
  {
   "cell_type": "code",
   "execution_count": 96,
   "metadata": {},
   "outputs": [
    {
     "data": {
      "image/png": "[encoded data removed]",
      "text/plain": [
       "<Figure size 432x288 with 1 Axes>"
      ]
     },
     "metadata": {
      "needs_background": "light"
     },
     "output_type": "display_data"
    }
   ],
   "source": [
    "x=tsne[:,0]\n",
    "y=tsne[:,1]\n",
    "\n",
    "fig, ax = plt.subplots()\n",
    "ax.scatter(x, y)\n",
    "\n",
    "for item, x1, y1 in zip(item_vectors, x, y):\n",
    "    ax.annotate(item[0], (x1, y1), size=10)\n",
    "\n",
    "plt.show()"
   ]
  }
 ],
 "metadata": {
  "kernelspec": {
   "display_name": "Python 3",
   "language": "python",
   "name": "python3"
  },
  "language_info": {
   "codemirror_mode": {
    "name": "ipython",
    "version": 3
   },
   "file_extension": ".py",
   "mimetype": "text/x-python",
   "name": "python",
   "nbconvert_exporter": "python",
   "pygments_lexer": "ipython3",
   "version": "3.5.2"
  }
 },
 "nbformat": 4,
 "nbformat_minor": 2
}
